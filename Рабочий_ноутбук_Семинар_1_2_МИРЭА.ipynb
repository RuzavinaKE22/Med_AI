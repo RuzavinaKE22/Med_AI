{
 "cells": [
  {
   "cell_type": "code",
   "execution_count": 1,
   "id": "d4ef2ec6",
   "metadata": {},
   "outputs": [
    {
     "data": {
      "application/javascript": [
       "IPython.notebook.set_autosave_interval(300000)"
      ]
     },
     "metadata": {},
     "output_type": "display_data"
    },
    {
     "name": "stdout",
     "output_type": "stream",
     "text": [
      "Autosaving every 300 seconds\n"
     ]
    }
   ],
   "source": [
    "%autosave 300"
   ]
  },
  {
   "cell_type": "markdown",
   "id": "bf24541d",
   "metadata": {},
   "source": [
    "# Начальный этап работы с набором данных:"
   ]
  },
  {
   "cell_type": "markdown",
   "id": "8a2bca7d",
   "metadata": {},
   "source": [
    "## Содержание:\n",
    "<a name='s'></a>\n",
    "1. [Загрузка основной библиотеки для работы с данными](#b)\n",
    "2. [Чтение CSV файла](#r)"
   ]
  },
  {
   "cell_type": "markdown",
   "id": "aa912c5c",
   "metadata": {},
   "source": [
    "### Загрузка основной библиотеки для работы с данными:\n",
    "<a name='b'></a>"
   ]
  },
  {
   "cell_type": "code",
   "execution_count": 5,
   "id": "89dcf2aa",
   "metadata": {
    "scrolled": false
   },
   "outputs": [],
   "source": [
    "import pandas as pd\n",
    "import json\n",
    "import numpy as np\n",
    "from matplotlib import pyplot as plt\n",
    "import itk"
   ]
  },
  {
   "cell_type": "markdown",
   "id": "4fdf1008",
   "metadata": {},
   "source": [
    "### Чтение CSV файла\n",
    "<a name='r'></a>"
   ]
  },
  {
   "cell_type": "code",
   "execution_count": 6,
   "id": "86742805",
   "metadata": {},
   "outputs": [],
   "source": [
    "df = pd.read_csv('xray_chest.csv')"
   ]
  },
  {
   "cell_type": "code",
   "execution_count": 3,
   "id": "e8c553c1",
   "metadata": {
    "scrolled": true
   },
   "outputs": [
    {
     "data": {
      "text/html": [
       "<div>\n",
       "<style scoped>\n",
       "    .dataframe tbody tr th:only-of-type {\n",
       "        vertical-align: middle;\n",
       "    }\n",
       "\n",
       "    .dataframe tbody tr th {\n",
       "        vertical-align: top;\n",
       "    }\n",
       "\n",
       "    .dataframe thead th {\n",
       "        text-align: right;\n",
       "    }\n",
       "</style>\n",
       "<table border=\"1\" class=\"dataframe\">\n",
       "  <thead>\n",
       "    <tr style=\"text-align: right;\">\n",
       "      <th></th>\n",
       "      <th>dcm</th>\n",
       "      <th>jpg</th>\n",
       "      <th>type</th>\n",
       "    </tr>\n",
       "  </thead>\n",
       "  <tbody>\n",
       "    <tr>\n",
       "      <th>0</th>\n",
       "      <td>/abscess/0.dcm</td>\n",
       "      <td>/abscess/0.jpg</td>\n",
       "      <td>abscess</td>\n",
       "    </tr>\n",
       "    <tr>\n",
       "      <th>1</th>\n",
       "      <td>/abscess/1.dcm</td>\n",
       "      <td>/abscess/1.jpg</td>\n",
       "      <td>abscess</td>\n",
       "    </tr>\n",
       "    <tr>\n",
       "      <th>2</th>\n",
       "      <td>/abscess/2.dcm</td>\n",
       "      <td>/abscess/2.jpg</td>\n",
       "      <td>abscess</td>\n",
       "    </tr>\n",
       "    <tr>\n",
       "      <th>3</th>\n",
       "      <td>/abscess/3.dcm</td>\n",
       "      <td>/abscess/3.jpg</td>\n",
       "      <td>abscess</td>\n",
       "    </tr>\n",
       "    <tr>\n",
       "      <th>4</th>\n",
       "      <td>/abscess/4.dcm</td>\n",
       "      <td>/abscess/4.jpg</td>\n",
       "      <td>abscess</td>\n",
       "    </tr>\n",
       "    <tr>\n",
       "      <th>...</th>\n",
       "      <td>...</td>\n",
       "      <td>...</td>\n",
       "      <td>...</td>\n",
       "    </tr>\n",
       "    <tr>\n",
       "      <th>92</th>\n",
       "      <td>/tuberculosis/4.dcm</td>\n",
       "      <td>/tuberculosis/4.jpg</td>\n",
       "      <td>tuberculosis</td>\n",
       "    </tr>\n",
       "    <tr>\n",
       "      <th>93</th>\n",
       "      <td>/venous_congestion/0.dcm</td>\n",
       "      <td>/venous_congestion/0.jpg</td>\n",
       "      <td>venous congestion</td>\n",
       "    </tr>\n",
       "    <tr>\n",
       "      <th>94</th>\n",
       "      <td>/venous_congestion/1.dcm</td>\n",
       "      <td>/venous_congestion/1.jpg</td>\n",
       "      <td>venous congestion</td>\n",
       "    </tr>\n",
       "    <tr>\n",
       "      <th>95</th>\n",
       "      <td>/venous_congestion/2.dcm</td>\n",
       "      <td>/venous_congestion/2.jpg</td>\n",
       "      <td>venous congestion</td>\n",
       "    </tr>\n",
       "    <tr>\n",
       "      <th>96</th>\n",
       "      <td>/venous_congestion/3.dcm</td>\n",
       "      <td>/venous_congestion/3.jpg</td>\n",
       "      <td>venous congestion</td>\n",
       "    </tr>\n",
       "  </tbody>\n",
       "</table>\n",
       "<p>97 rows × 3 columns</p>\n",
       "</div>"
      ],
      "text/plain": [
       "                         dcm                       jpg               type\n",
       "0             /abscess/0.dcm            /abscess/0.jpg            abscess\n",
       "1             /abscess/1.dcm            /abscess/1.jpg            abscess\n",
       "2             /abscess/2.dcm            /abscess/2.jpg            abscess\n",
       "3             /abscess/3.dcm            /abscess/3.jpg            abscess\n",
       "4             /abscess/4.dcm            /abscess/4.jpg            abscess\n",
       "..                       ...                       ...                ...\n",
       "92       /tuberculosis/4.dcm       /tuberculosis/4.jpg       tuberculosis\n",
       "93  /venous_congestion/0.dcm  /venous_congestion/0.jpg  venous congestion\n",
       "94  /venous_congestion/1.dcm  /venous_congestion/1.jpg  venous congestion\n",
       "95  /venous_congestion/2.dcm  /venous_congestion/2.jpg  venous congestion\n",
       "96  /venous_congestion/3.dcm  /venous_congestion/3.jpg  venous congestion\n",
       "\n",
       "[97 rows x 3 columns]"
      ]
     },
     "execution_count": 3,
     "metadata": {},
     "output_type": "execute_result"
    }
   ],
   "source": [
    "df"
   ]
  },
  {
   "cell_type": "code",
   "execution_count": 4,
   "id": "1d646add",
   "metadata": {
    "scrolled": true
   },
   "outputs": [
    {
     "data": {
      "text/plain": [
       "array(['abscess', 'ards', 'atelectasis', 'atherosclerosis of the aorta',\n",
       "       'cardiomegaly', 'emphysema', 'fracture', 'hydropneumothorax',\n",
       "       'hydrothorax', 'pneumonia', 'pneumosclerosis',\n",
       "       'post-inflammatory changes', 'post-traumatic ribs deformation',\n",
       "       'sarcoidosis', 'scoliosis', 'tuberculosis', 'venous congestion'],\n",
       "      dtype=object)"
      ]
     },
     "execution_count": 4,
     "metadata": {},
     "output_type": "execute_result"
    }
   ],
   "source": [
    "df['type'].unique()"
   ]
  },
  {
   "cell_type": "markdown",
   "id": "496a03a8",
   "metadata": {},
   "source": [
    "Смотрим общую информацию по набору данных:"
   ]
  },
  {
   "cell_type": "code",
   "execution_count": 5,
   "id": "c60dee6d",
   "metadata": {},
   "outputs": [
    {
     "name": "stdout",
     "output_type": "stream",
     "text": [
      "<class 'pandas.core.frame.DataFrame'>\n",
      "RangeIndex: 97 entries, 0 to 96\n",
      "Data columns (total 3 columns):\n",
      " #   Column  Non-Null Count  Dtype \n",
      "---  ------  --------------  ----- \n",
      " 0   dcm     97 non-null     object\n",
      " 1   jpg     97 non-null     object\n",
      " 2   type    97 non-null     object\n",
      "dtypes: object(3)\n",
      "memory usage: 2.4+ KB\n"
     ]
    }
   ],
   "source": [
    "df.info()"
   ]
  },
  {
   "cell_type": "code",
   "execution_count": 6,
   "id": "f1e6a943",
   "metadata": {},
   "outputs": [
    {
     "data": {
      "text/plain": [
       "abscess                            9\n",
       "hydropneumothorax                  9\n",
       "cardiomegaly                       8\n",
       "atelectasis                        7\n",
       "post-inflammatory changes          7\n",
       "atherosclerosis of the aorta       6\n",
       "sarcoidosis                        6\n",
       "fracture                           6\n",
       "hydrothorax                        5\n",
       "emphysema                          5\n",
       "tuberculosis                       5\n",
       "post-traumatic ribs deformation    5\n",
       "pneumonia                          5\n",
       "venous congestion                  4\n",
       "scoliosis                          4\n",
       "pneumosclerosis                    4\n",
       "ards                               2\n",
       "Name: type, dtype: int64"
      ]
     },
     "execution_count": 6,
     "metadata": {},
     "output_type": "execute_result"
    }
   ],
   "source": [
    "df['type'].value_counts()"
   ]
  },
  {
   "cell_type": "code",
   "execution_count": 7,
   "id": "888fa50d",
   "metadata": {},
   "outputs": [
    {
     "name": "stdout",
     "output_type": "stream",
     "text": [
      "17\n"
     ]
    }
   ],
   "source": [
    "print(len(df['type'].value_counts()))"
   ]
  },
  {
   "cell_type": "markdown",
   "id": "1dab0966",
   "metadata": {},
   "source": [
    "Данные не в машиночитаемом виде, чтобы перевсти их в нужный вид нужно воспользоваться библиотекой Scikit-learn: https://datagy.io/sklearn-one-hot-encode/ либо более сложным способом - самостоятельно писать функцию для перекодировки данных через 0 и 1 или найти любой другой способ перекодировки, что понравится. "
   ]
  },
  {
   "cell_type": "markdown",
   "id": "50e6b7c4",
   "metadata": {},
   "source": [
    "### Открываем json файл"
   ]
  },
  {
   "cell_type": "code",
   "execution_count": 8,
   "id": "e8105312",
   "metadata": {},
   "outputs": [],
   "source": [
    "df_json = pd.read_json('medical_data.json')\n"
   ]
  },
  {
   "cell_type": "code",
   "execution_count": 9,
   "id": "4e47ac97",
   "metadata": {},
   "outputs": [
    {
     "data": {
      "text/html": [
       "<div>\n",
       "<style scoped>\n",
       "    .dataframe tbody tr th:only-of-type {\n",
       "        vertical-align: middle;\n",
       "    }\n",
       "\n",
       "    .dataframe tbody tr th {\n",
       "        vertical-align: top;\n",
       "    }\n",
       "\n",
       "    .dataframe thead th {\n",
       "        text-align: right;\n",
       "    }\n",
       "</style>\n",
       "<table border=\"1\" class=\"dataframe\">\n",
       "  <thead>\n",
       "    <tr style=\"text-align: right;\">\n",
       "      <th></th>\n",
       "      <th>patients</th>\n",
       "    </tr>\n",
       "  </thead>\n",
       "  <tbody>\n",
       "    <tr>\n",
       "      <th>0</th>\n",
       "      <td>{'id': 1, 'name': 'Иван Иванов', 'age': 45, 'g...</td>\n",
       "    </tr>\n",
       "    <tr>\n",
       "      <th>1</th>\n",
       "      <td>{'id': 2, 'name': 'Мария Петрова', 'age': 38, ...</td>\n",
       "    </tr>\n",
       "  </tbody>\n",
       "</table>\n",
       "</div>"
      ],
      "text/plain": [
       "                                            patients\n",
       "0  {'id': 1, 'name': 'Иван Иванов', 'age': 45, 'g...\n",
       "1  {'id': 2, 'name': 'Мария Петрова', 'age': 38, ..."
      ]
     },
     "metadata": {},
     "output_type": "display_data"
    }
   ],
   "source": [
    "display(df_json)"
   ]
  },
  {
   "cell_type": "markdown",
   "id": "f3065395",
   "metadata": {},
   "source": [
    "При работе с алгоритмами будете обращаться к ним по тэгам"
   ]
  },
  {
   "cell_type": "markdown",
   "id": "6646e298",
   "metadata": {},
   "source": [
    "### Совмещение файлов от врачей"
   ]
  },
  {
   "cell_type": "markdown",
   "id": "6033e109",
   "metadata": {},
   "source": [
    "После разметки тремя врачами необходимо совместить данные для дальнейшего сбора набора данных. Ниже мы проверяем их на наличие дубликатов и совмещаем в один файл для дальнейшего анализа ошибок"
   ]
  },
  {
   "cell_type": "code",
   "execution_count": 11,
   "id": "ca6d8e6f",
   "metadata": {
    "scrolled": true
   },
   "outputs": [],
   "source": [
    "df_1 = pd.read_excel('Результат разметки_2.xlsx')"
   ]
  },
  {
   "cell_type": "code",
   "execution_count": 12,
   "id": "a9d7e10a",
   "metadata": {},
   "outputs": [
    {
     "name": "stdout",
     "output_type": "stream",
     "text": [
      "220\n"
     ]
    }
   ],
   "source": [
    "print(len(df_1))"
   ]
  },
  {
   "cell_type": "code",
   "execution_count": 13,
   "id": "9b2efebf",
   "metadata": {
    "scrolled": true
   },
   "outputs": [
    {
     "name": "stdout",
     "output_type": "stream",
     "text": [
      "                                          UID  конкременты ЖП  \\\n",
      "53   5.17239031847312684976506712902315664550           False   \n",
      "54   5.17239031847312684976506712902315664550           False   \n",
      "67  5.184472651090842747727643933106853228333           False   \n",
      "68  5.184472651090842747727643933106853228333           False   \n",
      "\n",
      "   максимальный размер конкремента количество конкрементов  \n",
      "53                             NaN                     NaN  \n",
      "54                             NaN                     NaN  \n",
      "67                             NaN                     NaN  \n",
      "68                             NaN                     NaN  \n"
     ]
    }
   ],
   "source": [
    "duplicates_1 = df_1[df_1.duplicated(keep=False)]\n",
    "\n",
    "print(duplicates_1)"
   ]
  },
  {
   "cell_type": "code",
   "execution_count": 14,
   "id": "3449c8a6",
   "metadata": {},
   "outputs": [
    {
     "name": "stdout",
     "output_type": "stream",
     "text": [
      "220\n",
      "218\n"
     ]
    }
   ],
   "source": [
    "print(len(df_1))\n",
    "df_1 = df_1.drop_duplicates(keep='first')\n",
    "print(len(df_1))"
   ]
  },
  {
   "cell_type": "code",
   "execution_count": 15,
   "id": "7f144a43",
   "metadata": {},
   "outputs": [],
   "source": [
    "df_2 = pd.read_excel('Результат_разметки_1.xlsx')"
   ]
  },
  {
   "cell_type": "code",
   "execution_count": 16,
   "id": "5d421353",
   "metadata": {},
   "outputs": [],
   "source": [
    "duplicates_2 = df_2[df_2.duplicated(keep=False)]"
   ]
  },
  {
   "cell_type": "code",
   "execution_count": 17,
   "id": "e403e577",
   "metadata": {
    "scrolled": true
   },
   "outputs": [
    {
     "name": "stdout",
     "output_type": "stream",
     "text": [
      "                                          UID  конкременты ЖП  \\\n",
      "4   5.334797849188039011135650847224948483671            True   \n",
      "11  5.334797849188039011135650847224948483671            True   \n",
      "\n",
      "   максимальный размер конкремента количество конкрементов  \n",
      "4                                6                       7  \n",
      "11                               6                       7  \n"
     ]
    }
   ],
   "source": [
    "print(duplicates_2)"
   ]
  },
  {
   "cell_type": "code",
   "execution_count": 18,
   "id": "b00f7104",
   "metadata": {},
   "outputs": [
    {
     "name": "stdout",
     "output_type": "stream",
     "text": [
      "228\n",
      "227\n"
     ]
    }
   ],
   "source": [
    "print(len(df_2))\n",
    "df_2 = df_2.drop_duplicates(keep='first')\n",
    "print(len(df_2))"
   ]
  },
  {
   "cell_type": "code",
   "execution_count": 19,
   "id": "79c05412",
   "metadata": {},
   "outputs": [],
   "source": [
    "df_3 = pd.read_excel('Результат_разметки_3.xlsx')"
   ]
  },
  {
   "cell_type": "code",
   "execution_count": 20,
   "id": "02828023",
   "metadata": {
    "scrolled": false
   },
   "outputs": [
    {
     "name": "stdout",
     "output_type": "stream",
     "text": [
      "Empty DataFrame\n",
      "Columns: [UID, конкременты ЖП, максимальный размер конкремента, Количество конкрементов, Плотность конкрементов]\n",
      "Index: []\n"
     ]
    }
   ],
   "source": [
    "duplicates_3 = df_3[df_3.duplicated(keep=False)]\n",
    "print(duplicates_3)"
   ]
  },
  {
   "cell_type": "markdown",
   "id": "44ab8702",
   "metadata": {},
   "source": [
    "Объединяем таблицы"
   ]
  },
  {
   "cell_type": "code",
   "execution_count": 21,
   "id": "a3d89e9d",
   "metadata": {},
   "outputs": [],
   "source": [
    "df_merge = df_1.merge(df_2, how='inner', on=\"UID\").merge(df_3, how='inner', on='UID')"
   ]
  },
  {
   "cell_type": "code",
   "execution_count": 22,
   "id": "8b6643ff",
   "metadata": {
    "scrolled": false
   },
   "outputs": [
    {
     "data": {
      "text/html": [
       "<div>\n",
       "<style scoped>\n",
       "    .dataframe tbody tr th:only-of-type {\n",
       "        vertical-align: middle;\n",
       "    }\n",
       "\n",
       "    .dataframe tbody tr th {\n",
       "        vertical-align: top;\n",
       "    }\n",
       "\n",
       "    .dataframe thead th {\n",
       "        text-align: right;\n",
       "    }\n",
       "</style>\n",
       "<table border=\"1\" class=\"dataframe\">\n",
       "  <thead>\n",
       "    <tr style=\"text-align: right;\">\n",
       "      <th></th>\n",
       "      <th>UID</th>\n",
       "      <th>конкременты ЖП_x</th>\n",
       "      <th>максимальный размер конкремента_x</th>\n",
       "      <th>количество конкрементов_x</th>\n",
       "      <th>конкременты ЖП_y</th>\n",
       "      <th>максимальный размер конкремента_y</th>\n",
       "      <th>количество конкрементов_y</th>\n",
       "      <th>конкременты ЖП</th>\n",
       "      <th>максимальный размер конкремента</th>\n",
       "      <th>Количество конкрементов</th>\n",
       "      <th>Плотность конкрементов</th>\n",
       "    </tr>\n",
       "  </thead>\n",
       "  <tbody>\n",
       "    <tr>\n",
       "      <th>0</th>\n",
       "      <td>5.109345047606384688427344985864798504303</td>\n",
       "      <td>False</td>\n",
       "      <td>NaN</td>\n",
       "      <td>NaN</td>\n",
       "      <td>True</td>\n",
       "      <td>-</td>\n",
       "      <td>0</td>\n",
       "      <td>False</td>\n",
       "      <td>NaN</td>\n",
       "      <td>NaN</td>\n",
       "      <td>NaN</td>\n",
       "    </tr>\n",
       "    <tr>\n",
       "      <th>1</th>\n",
       "      <td>5.109332116298635647054018243209951473750</td>\n",
       "      <td>True</td>\n",
       "      <td>10х4х7</td>\n",
       "      <td>-</td>\n",
       "      <td>True</td>\n",
       "      <td>5</td>\n",
       "      <td>9</td>\n",
       "      <td>True</td>\n",
       "      <td>6.0</td>\n",
       "      <td>3.0</td>\n",
       "      <td>310.0</td>\n",
       "    </tr>\n",
       "    <tr>\n",
       "      <th>2</th>\n",
       "      <td>5.119061767544037682661625537455649606098</td>\n",
       "      <td>True</td>\n",
       "      <td>7х6х8</td>\n",
       "      <td>3</td>\n",
       "      <td>True</td>\n",
       "      <td>6х7х9</td>\n",
       "      <td>5</td>\n",
       "      <td>True</td>\n",
       "      <td>7.0</td>\n",
       "      <td>3.0</td>\n",
       "      <td>130.0</td>\n",
       "    </tr>\n",
       "    <tr>\n",
       "      <th>3</th>\n",
       "      <td>5.104674459632147953004472240334900716143</td>\n",
       "      <td>False</td>\n",
       "      <td>NaN</td>\n",
       "      <td>NaN</td>\n",
       "      <td>True</td>\n",
       "      <td>-</td>\n",
       "      <td>0</td>\n",
       "      <td>False</td>\n",
       "      <td>NaN</td>\n",
       "      <td>NaN</td>\n",
       "      <td>NaN</td>\n",
       "    </tr>\n",
       "    <tr>\n",
       "      <th>4</th>\n",
       "      <td>1.2.392.200036.9116.2.5.1.37.2417546385.168398...</td>\n",
       "      <td>False</td>\n",
       "      <td>NaN</td>\n",
       "      <td>NaN</td>\n",
       "      <td>True</td>\n",
       "      <td>-</td>\n",
       "      <td>0</td>\n",
       "      <td>False</td>\n",
       "      <td>NaN</td>\n",
       "      <td>NaN</td>\n",
       "      <td>NaN</td>\n",
       "    </tr>\n",
       "    <tr>\n",
       "      <th>...</th>\n",
       "      <td>...</td>\n",
       "      <td>...</td>\n",
       "      <td>...</td>\n",
       "      <td>...</td>\n",
       "      <td>...</td>\n",
       "      <td>...</td>\n",
       "      <td>...</td>\n",
       "      <td>...</td>\n",
       "      <td>...</td>\n",
       "      <td>...</td>\n",
       "      <td>...</td>\n",
       "    </tr>\n",
       "    <tr>\n",
       "      <th>220</th>\n",
       "      <td>4.1862929792.352.1682620232.998</td>\n",
       "      <td>False</td>\n",
       "      <td>NaN</td>\n",
       "      <td>NaN</td>\n",
       "      <td>True</td>\n",
       "      <td>-</td>\n",
       "      <td>0</td>\n",
       "      <td>False</td>\n",
       "      <td>NaN</td>\n",
       "      <td>NaN</td>\n",
       "      <td>NaN</td>\n",
       "    </tr>\n",
       "    <tr>\n",
       "      <th>221</th>\n",
       "      <td>45.1.111.4460.1680593777.1</td>\n",
       "      <td>False</td>\n",
       "      <td>NaN</td>\n",
       "      <td>NaN</td>\n",
       "      <td>True</td>\n",
       "      <td>-</td>\n",
       "      <td>0</td>\n",
       "      <td>False</td>\n",
       "      <td>NaN</td>\n",
       "      <td>NaN</td>\n",
       "      <td>NaN</td>\n",
       "    </tr>\n",
       "    <tr>\n",
       "      <th>222</th>\n",
       "      <td>45.1.111.6496.1684329228.1</td>\n",
       "      <td>False</td>\n",
       "      <td>NaN</td>\n",
       "      <td>NaN</td>\n",
       "      <td>True</td>\n",
       "      <td>-</td>\n",
       "      <td>0</td>\n",
       "      <td>False</td>\n",
       "      <td>NaN</td>\n",
       "      <td>NaN</td>\n",
       "      <td>NaN</td>\n",
       "    </tr>\n",
       "    <tr>\n",
       "      <th>223</th>\n",
       "      <td>465.215542371102860638161065218873777766398</td>\n",
       "      <td>True</td>\n",
       "      <td>17х14х12</td>\n",
       "      <td>-</td>\n",
       "      <td>True</td>\n",
       "      <td>14х19х15</td>\n",
       "      <td>1</td>\n",
       "      <td>True</td>\n",
       "      <td>20.0</td>\n",
       "      <td>1.0</td>\n",
       "      <td>14.0</td>\n",
       "    </tr>\n",
       "    <tr>\n",
       "      <th>224</th>\n",
       "      <td>465.241612900143182614429803897297090600518</td>\n",
       "      <td>True</td>\n",
       "      <td>26х24х25</td>\n",
       "      <td>-</td>\n",
       "      <td>True</td>\n",
       "      <td>6</td>\n",
       "      <td>несколько десятков</td>\n",
       "      <td>True</td>\n",
       "      <td>27.0</td>\n",
       "      <td>1.0</td>\n",
       "      <td>69.0</td>\n",
       "    </tr>\n",
       "  </tbody>\n",
       "</table>\n",
       "<p>225 rows × 11 columns</p>\n",
       "</div>"
      ],
      "text/plain": [
       "                                                   UID  конкременты ЖП_x  \\\n",
       "0            5.109345047606384688427344985864798504303             False   \n",
       "1            5.109332116298635647054018243209951473750              True   \n",
       "2            5.119061767544037682661625537455649606098              True   \n",
       "3            5.104674459632147953004472240334900716143             False   \n",
       "4    1.2.392.200036.9116.2.5.1.37.2417546385.168398...             False   \n",
       "..                                                 ...               ...   \n",
       "220                    4.1862929792.352.1682620232.998             False   \n",
       "221                         45.1.111.4460.1680593777.1             False   \n",
       "222                         45.1.111.6496.1684329228.1             False   \n",
       "223        465.215542371102860638161065218873777766398              True   \n",
       "224        465.241612900143182614429803897297090600518              True   \n",
       "\n",
       "    максимальный размер конкремента_x количество конкрементов_x  \\\n",
       "0                                 NaN                       NaN   \n",
       "1                              10х4х7                         -   \n",
       "2                               7х6х8                         3   \n",
       "3                                 NaN                       NaN   \n",
       "4                                 NaN                       NaN   \n",
       "..                                ...                       ...   \n",
       "220                               NaN                       NaN   \n",
       "221                               NaN                       NaN   \n",
       "222                               NaN                       NaN   \n",
       "223                          17х14х12                         -   \n",
       "224                          26х24х25                         -   \n",
       "\n",
       "     конкременты ЖП_y максимальный размер конкремента_y  \\\n",
       "0                True                                 -   \n",
       "1                True                                 5   \n",
       "2                True                             6х7х9   \n",
       "3                True                                 -   \n",
       "4                True                                 -   \n",
       "..                ...                               ...   \n",
       "220              True                                 -   \n",
       "221              True                                 -   \n",
       "222              True                                 -   \n",
       "223              True                          14х19х15   \n",
       "224              True                                 6   \n",
       "\n",
       "    количество конкрементов_y  конкременты ЖП  \\\n",
       "0                           0           False   \n",
       "1                           9            True   \n",
       "2                           5            True   \n",
       "3                           0           False   \n",
       "4                           0           False   \n",
       "..                        ...             ...   \n",
       "220                         0           False   \n",
       "221                         0           False   \n",
       "222                         0           False   \n",
       "223                         1            True   \n",
       "224        несколько десятков            True   \n",
       "\n",
       "     максимальный размер конкремента  Количество конкрементов  \\\n",
       "0                                NaN                      NaN   \n",
       "1                                6.0                      3.0   \n",
       "2                                7.0                      3.0   \n",
       "3                                NaN                      NaN   \n",
       "4                                NaN                      NaN   \n",
       "..                               ...                      ...   \n",
       "220                              NaN                      NaN   \n",
       "221                              NaN                      NaN   \n",
       "222                              NaN                      NaN   \n",
       "223                             20.0                      1.0   \n",
       "224                             27.0                      1.0   \n",
       "\n",
       "     Плотность конкрементов  \n",
       "0                       NaN  \n",
       "1                     310.0  \n",
       "2                     130.0  \n",
       "3                       NaN  \n",
       "4                       NaN  \n",
       "..                      ...  \n",
       "220                     NaN  \n",
       "221                     NaN  \n",
       "222                     NaN  \n",
       "223                    14.0  \n",
       "224                    69.0  \n",
       "\n",
       "[225 rows x 11 columns]"
      ]
     },
     "execution_count": 22,
     "metadata": {},
     "output_type": "execute_result"
    }
   ],
   "source": [
    "df_merge"
   ]
  },
  {
   "cell_type": "code",
   "execution_count": 36,
   "id": "0e5f20c2",
   "metadata": {},
   "outputs": [
    {
     "name": "stderr",
     "output_type": "stream",
     "text": [
      "C:\\Users\\paman\\AppData\\Local\\Temp\\ipykernel_10024\\3711367592.py:1: UserWarning: Pandas requires version '3.0.5' or newer of 'xlsxwriter' (version '3.0.3' currently installed).\n",
      "  df_merge.to_excel('merged.xlsx', sheet_name='Лист1', index=False)\n"
     ]
    }
   ],
   "source": [
    "df_merge.to_excel('merged.xlsx', sheet_name='Лист1', index=False)"
   ]
  },
  {
   "cell_type": "markdown",
   "id": "b9f72a70",
   "metadata": {},
   "source": [
    "### NifTI"
   ]
  },
  {
   "cell_type": "markdown",
   "id": "743a00e6",
   "metadata": {},
   "source": [
    "\n",
    "это попиксильный вывод изображения"
   ]
  },
  {
   "cell_type": "code",
   "execution_count": 3,
   "id": "e18e0b06",
   "metadata": {},
   "outputs": [
    {
     "data": {
      "image/png": "[encoded data removed]",
      "text/plain": [
       "<Figure size 432x288 with 1 Axes>"
      ]
     },
     "metadata": {
      "needs_background": "light"
     },
     "output_type": "display_data"
    },
    {
     "data": {
      "image/png": "[encoded data removed]",
      "text/plain": [
       "<Figure size 432x288 with 1 Axes>"
      ]
     },
     "metadata": {
      "needs_background": "light"
     },
     "output_type": "display_data"
    }
   ],
   "source": [
    "file_volume = \"NA.nii.gz\"\n",
    "image = itk.imread(file_volume)\n",
    "imageArray = itk.GetArrayFromImage(image)\n",
    "plt.imshow(imageArray[200, :, :], vmin = -60, vmax = 200, cmap = 'gray')\n",
    "plt.show()\n",
    "file_volume = \"NA_liver.nii.gz\"\n",
    "image = itk.imread(file_volume)\n",
    "imageArray = itk.GetArrayFromImage(image)\n",
    "plt.imshow(imageArray[200, :, :], cmap = 'gray')\n",
    "plt.show()\n"
   ]
  },
  {
   "cell_type": "code",
   "execution_count": null,
   "id": "d2c96886",
   "metadata": {},
   "outputs": [],
   "source": []
  }
 ],
 "metadata": {
  "kernelspec": {
   "display_name": "Python 3 (ipykernel)",
   "language": "python",
   "name": "python3"
  },
  "language_info": {
   "codemirror_mode": {
    "name": "ipython",
    "version": 3
   },
   "file_extension": ".py",
   "mimetype": "text/x-python",
   "name": "python",
   "nbconvert_exporter": "python",
   "pygments_lexer": "ipython3",
   "version": "3.9.12"
  }
 },
 "nbformat": 4,
 "nbformat_minor": 5
}
